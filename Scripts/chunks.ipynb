{
 "cells": [
  {
   "cell_type": "code",
   "execution_count": null,
   "id": "09587785-bbbe-4261-9a26-fda07cae7bf4",
   "metadata": {},
   "outputs": [],
   "source": [
    "import pandas as pd\n",
    "from sqlalchemy import create_engine\n",
    "\n",
    "# Step 1: MySQL connection details\n",
    "host = \"localhost\"\n",
    "user = \"root\"\n",
    "password = \"MYSQL\"\n",
    "database = \"inventory\"\n",
    "table_name = \"sales\"\n",
    "csv_file = r\"C:\\Users\\abhis\\Desktop\\vendor_inventory\\data\\sales.csv\"\n",
    "new_path = csv_file.replace(\"\\\\\", \"/\")\n",
    "\n",
    "# Step 2: Create SQLAlchemy engine\n",
    "engine = create_engine(f\"mysql+pymysql://{user}:{password}@{host}/{database}\")\n",
    "\n",
    "# Step 3: Read and insert in chunks\n",
    "chunksize = 1000  # You can adjust this based on your system's memory\n",
    "try:\n",
    "    for i, chunk in enumerate(pd.read_csv(new_path, chunksize=chunksize)):\n",
    "        chunk.to_sql(name=table_name, con=engine, index=False, if_exists=\"append\")\n",
    "        print(f\"Inserted chunk {i + 1}\")\n",
    "    print(f\"Table `{table_name}` populated successfully in database `{database}`.\")\n",
    "except Exception as e:\n",
    "    print(\"Error occurred:\", str(e)) "
   ]
  }
 ],
 "metadata": {
  "kernelspec": {
   "display_name": "Python 3 (ipykernel)",
   "language": "python",
   "name": "python3"
  },
  "language_info": {
   "codemirror_mode": {
    "name": "ipython",
    "version": 3
   },
   "file_extension": ".py",
   "mimetype": "text/x-python",
   "name": "python",
   "nbconvert_exporter": "python",
   "pygments_lexer": "ipython3",
   "version": "3.13.6"
  }
 },
 "nbformat": 4,
 "nbformat_minor": 5
}
