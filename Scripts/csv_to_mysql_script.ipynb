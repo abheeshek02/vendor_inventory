{
 "cells": [
  {
   "cell_type": "code",
   "execution_count": 1,
   "id": "78133011-2d92-403f-b9c8-f456b52d5e2f",
   "metadata": {},
   "outputs": [
    {
     "name": "stdout",
     "output_type": "stream",
     "text": [
      "Table `purchases` created successfully in database `inventory`.\n"
     ]
    }
   ],
   "source": [
    "import pandas as pd\n",
    "from sqlalchemy import create_engine\n",
    "\n",
    "# Step 1: MySQL connection details\n",
    "host = \"localhost\"  \n",
    "user = \"root\"       \n",
    "password = \"MYSQL\"  # add your actual password\n",
    "database = \"inventory\"   \n",
    "table_name = \"purchases\"  \n",
    "csv_file = r\"C:\\Users\\abhis\\Desktop\\vendor_inventory\\data\\purchases.csv\"\n",
    "new_path = csv_file.replace(\"\\\\\", \"/\")\n",
    "\n",
    "# Step 2: Read CSV file\n",
    "df = pd.read_csv(new_path)\n",
    "\n",
    "# Step 3: Create SQLAlchemy engine\n",
    "engine = create_engine(f\"mysql+pymysql://{user}:{password}@{host}/{database}\")\n",
    "\n",
    "# Step 4: Write DataFrame to MySQL\n",
    "try:\n",
    "    df.to_sql(name=table_name, con=engine, index=False, if_exists=\"replace\")\n",
    "    print(f\"Table `{table_name}` created successfully in database `{database}`.\")\n",
    "except Exception as e:\n",
    "    print(\"Error:\", e)"
   ]
  }
 ],
 "metadata": {
  "kernelspec": {
   "display_name": "env (3.13.6)",
   "language": "python",
   "name": "python3"
  },
  "language_info": {
   "codemirror_mode": {
    "name": "ipython",
    "version": 3
   },
   "file_extension": ".py",
   "mimetype": "text/x-python",
   "name": "python",
   "nbconvert_exporter": "python",
   "pygments_lexer": "ipython3",
   "version": "3.13.6"
  }
 },
 "nbformat": 4,
 "nbformat_minor": 5
}
